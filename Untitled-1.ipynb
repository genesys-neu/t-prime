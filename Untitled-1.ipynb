{
 "cells": [
  {
   "cell_type": "code",
   "execution_count": 5,
   "metadata": {},
   "outputs": [],
   "source": [
    "import pickle\n",
    "import pandas as pd\n",
    "\n",
    "with open('TPrime_transformer/best_t-prime/conf_matrix.best_small.pkl', 'rb') as f:\n",
    "    model = pickle.load(f)\n",
    "\n",
    "with open('baseline_models/best_baseline_models/results_Resnet/conf_matrix.best_resnet.pkl', 'rb') as f:\n",
    "    model_resnet = pickle.load(f)"
   ]
  },
  {
   "cell_type": "code",
   "execution_count": 14,
   "metadata": {},
   "outputs": [
    {
     "name": "stdout",
     "output_type": "stream",
     "text": [
      "6\n",
      "['[', '([ 27.17142857,  28.85714286,  33.18857143,  46.47428571,\\n        68.94857143,  89.6       ,  98.94857143,  99.99428571,\\n       100.        , 100.        , 100.        , 100.        ,\\n       100.        ]), ', '([26.87428571, 27.56      , 30.53714286, 38.58285714, 59.44      ,\\n       84.02857143, 93.85714286, 98.6       , 99.59428571, 99.75428571,\\n       99.78285714, 99.78857143, 99.79428571]), ', '([27.47428571, 27.45714286, 29.85142857, 39.10285714, 59.50857143,\\n       80.07428571, 90.78285714, 96.78285714, 98.90285714, 99.28      ,\\n       99.30857143, 99.35428571, 99.38285714]), ', '([ 27.16      ,  27.53714286,  30.46285714,  40.34857143,\\n        64.41714286,  87.59428571,  98.48571429, 100.        ,\\n       100.        , 100.        , 100.        , 100.        ,\\n       100.        ])]']\n"
     ]
    },
    {
     "ename": "ValueError",
     "evalue": "could not convert string to float: '[ 27.17142857,  28.85714286,  33.18857143,  46.47428571,\\n        68.94857143,  89.6       ,  98.94857143,  99.99428571,\\n       100.        , 100.        , 100.        , 100.        ,\\n       100.        ]'",
     "output_type": "error",
     "traceback": [
      "\u001b[0;31m---------------------------------------------------------------------------\u001b[0m",
      "\u001b[0;31mValueError\u001b[0m                                Traceback (most recent call last)",
      "\u001b[1;32m/home/yildiz.ay/Desktop/t-prime/Untitled-1.ipynb Cell 2\u001b[0m line \u001b[0;36m2\n\u001b[1;32m     <a href='vscode-notebook-cell://ssh-remote%2B10.75.9.71/home/yildiz.ay/Desktop/t-prime/Untitled-1.ipynb#W1sdnNjb2RlLXJlbW90ZQ%3D%3D?line=19'>20</a>\u001b[0m c \u001b[39m=\u001b[39m b[\u001b[39m1\u001b[39m]\u001b[39m.\u001b[39msplit(\u001b[39m'\u001b[39m\u001b[39m)\u001b[39m\u001b[39m'\u001b[39m)\n\u001b[1;32m     <a href='vscode-notebook-cell://ssh-remote%2B10.75.9.71/home/yildiz.ay/Desktop/t-prime/Untitled-1.ipynb#W1sdnNjb2RlLXJlbW90ZQ%3D%3D?line=21'>22</a>\u001b[0m \u001b[39m# print(np.array(c[0]).shape())\u001b[39;00m\n\u001b[0;32m---> <a href='vscode-notebook-cell://ssh-remote%2B10.75.9.71/home/yildiz.ay/Desktop/t-prime/Untitled-1.ipynb#W1sdnNjb2RlLXJlbW90ZQ%3D%3D?line=23'>24</a>\u001b[0m d \u001b[39m=\u001b[39m np\u001b[39m.\u001b[39marray(\u001b[39mfloat\u001b[39;49m(c[\u001b[39m0\u001b[39;49m]))\n",
      "\u001b[0;31mValueError\u001b[0m: could not convert string to float: '[ 27.17142857,  28.85714286,  33.18857143,  46.47428571,\\n        68.94857143,  89.6       ,  98.94857143,  99.99428571,\\n       100.        , 100.        , 100.        , 100.        ,\\n       100.        ]'"
     ]
    }
   ],
   "source": [
    "import pandas as pd\n",
    "import numpy as np\n",
    "import matplotlib.pyplot as plt\n",
    "import seaborn as sns\n",
    "import os\n",
    "import sys\n",
    "\n",
    "with open(f'preprocessing/test_results_uniformdist_onemodel.norm.txt', 'r') as f:\n",
    "    a = f.read()\n",
    "\n",
    "data_into_list = a.split('%') \n",
    "# print(data_into_list)\n",
    "\n",
    "print(len(data_into_list))\n",
    "\n",
    "spl = data_into_list[1].split('array')\n",
    "print(spl)\n",
    "\n",
    "b = spl[1].split('(')\n",
    "c = b[1].split(')')\n",
    "\n",
    "# print(np.array(c[0]).shape())\n",
    "\n",
    "d = np.array(float(c[0]))\n"
   ]
  },
  {
   "cell_type": "code",
   "execution_count": 1,
   "metadata": {},
   "outputs": [
    {
     "ename": "NameError",
     "evalue": "name 'model' is not defined",
     "output_type": "error",
     "traceback": [
      "\u001b[0;31m---------------------------------------------------------------------------\u001b[0m",
      "\u001b[0;31mNameError\u001b[0m                                 Traceback (most recent call last)",
      "\u001b[1;32m/home/yildiz.ay/Desktop/t-prime/Untitled-1.ipynb Cell 3\u001b[0m line \u001b[0;36m2\n\u001b[1;32m     <a href='vscode-notebook-cell://ssh-remote%2B10.75.9.71/home/yildiz.ay/Desktop/t-prime/Untitled-1.ipynb#W2sdnNjb2RlLXJlbW90ZQ%3D%3D?line=20'>21</a>\u001b[0m \u001b[39mwith\u001b[39;00m \u001b[39mopen\u001b[39m(\u001b[39m'\u001b[39m\u001b[39mpreprocessing/test_results_uniformdist_onemodel_resnet.norm.pkl\u001b[39m\u001b[39m'\u001b[39m, \u001b[39m'\u001b[39m\u001b[39mrb\u001b[39m\u001b[39m'\u001b[39m) \u001b[39mas\u001b[39;00m f:\n\u001b[1;32m     <a href='vscode-notebook-cell://ssh-remote%2B10.75.9.71/home/yildiz.ay/Desktop/t-prime/Untitled-1.ipynb#W2sdnNjb2RlLXJlbW90ZQ%3D%3D?line=21'>22</a>\u001b[0m     resnet \u001b[39m=\u001b[39m pickle\u001b[39m.\u001b[39mload(f)\n\u001b[0;32m---> <a href='vscode-notebook-cell://ssh-remote%2B10.75.9.71/home/yildiz.ay/Desktop/t-prime/Untitled-1.ipynb#W2sdnNjb2RlLXJlbW90ZQ%3D%3D?line=23'>24</a>\u001b[0m \u001b[39mprint\u001b[39m(model\u001b[39m.\u001b[39mcolumns[\u001b[39m0\u001b[39m])\n\u001b[1;32m     <a href='vscode-notebook-cell://ssh-remote%2B10.75.9.71/home/yildiz.ay/Desktop/t-prime/Untitled-1.ipynb#W2sdnNjb2RlLXJlbW90ZQ%3D%3D?line=25'>26</a>\u001b[0m plt\u001b[39m.\u001b[39mfigure(figsize\u001b[39m=\u001b[39m(\u001b[39m10\u001b[39m,\u001b[39m10\u001b[39m))\n\u001b[1;32m     <a href='vscode-notebook-cell://ssh-remote%2B10.75.9.71/home/yildiz.ay/Desktop/t-prime/Untitled-1.ipynb#W2sdnNjb2RlLXJlbW90ZQ%3D%3D?line=26'>27</a>\u001b[0m plt\u001b[39m.\u001b[39mplot(model[\u001b[39m'\u001b[39m\u001b[39mNone\u001b[39m\u001b[39m'\u001b[39m], label\u001b[39m=\u001b[39m\u001b[39m'\u001b[39m\u001b[39mNone\u001b[39m\u001b[39m'\u001b[39m, color\u001b[39m=\u001b[39m\u001b[39m'\u001b[39m\u001b[39mmediumspringgreen\u001b[39m\u001b[39m'\u001b[39m, marker\u001b[39m=\u001b[39m\u001b[39m'\u001b[39m\u001b[39mv\u001b[39m\u001b[39m'\u001b[39m)\n",
      "\u001b[0;31mNameError\u001b[0m: name 'model' is not defined"
     ]
    }
   ],
   "source": [
    "import pandas as pd\n",
    "import pickle\n",
    "import matplotlib.pyplot as plt\n",
    "import numpy as np\n",
    "\n",
    "with open('preprocessing/test_results_uniformdist_onemodel_lg.norm.pkl', 'rb') as f:\n",
    "    lg = pickle.load(f)\n",
    "\n",
    "with open('preprocessing/test_results_uniformdist_onemodel_sm.norm.pkl', 'rb') as f:\n",
    "    sm = pickle.load(f)\n",
    "\n",
    "with open('preprocessing/test_results_uniformdist_onemodel_amcnet.norm.pkl', 'rb') as f:\n",
    "    amcnet = pickle.load(f)\n",
    "\n",
    "with open('preprocessing/test_results_uniformdist_onemodel_cnn.norm.pkl', 'rb') as f:\n",
    "    cnn = pickle.load(f)\n",
    "\n",
    "with open('preprocessing/test_results_uniformdist_onemodel_mcformer.norm.pkl', 'rb') as f:\n",
    "    mcformer = pickle.load(f)\n",
    "\n",
    "with open('preprocessing/test_results_uniformdist_onemodel_resnet.norm.pkl', 'rb') as f:\n",
    "    resnet = pickle.load(f)\n",
    "\n",
    "print(model.columns[0])\n",
    "\n",
    "plt.figure(figsize=(10,10))\n",
    "plt.plot(model['None'], label='None', color='mediumspringgreen', marker='v')\n",
    "plt.legend(bbox_to_anchor=(1.04, -0.1), loc=\"upper center\")\n",
    "# print(model['0'][0])\n",
    "\n",
    "print(model['TGn']+model['None'])\n",
    "\n",
    "k = np.sum(model, axis=1)\n",
    "\n",
    "plt.plot(k, label='TGn', color='red', marker='v')\n"
   ]
  }
 ],
 "metadata": {
  "kernelspec": {
   "display_name": "t-prime",
   "language": "python",
   "name": "python3"
  },
  "language_info": {
   "codemirror_mode": {
    "name": "ipython",
    "version": 3
   },
   "file_extension": ".py",
   "mimetype": "text/x-python",
   "name": "python",
   "nbconvert_exporter": "python",
   "pygments_lexer": "ipython3",
   "version": "3.9.12"
  }
 },
 "nbformat": 4,
 "nbformat_minor": 2
}
